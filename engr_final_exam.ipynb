{
 "cells": [
  {
   "cell_type": "code",
   "execution_count": 1,
   "id": "12d0188f",
   "metadata": {},
   "outputs": [
    {
     "name": "stdout",
     "output_type": "stream",
     "text": [
      "Enter the directory for the folder the pictures are to be saved to. E:\\documents\\PCC 2022\\engr_114_fall2022\\open_cv_test\n",
      "Declare which camera to use, if uncertain start with 0 and increase by one until the correct camera is used. Current webcam selected is 1\n",
      "Enter the folder name for the pictures to be saved in. The folder name isdatasets\n",
      "How many photos do you want to take? Number of photos are 31\n"
     ]
    }
   ],
   "source": [
    "from smile import smile\n",
    "\n",
    "d = input(\"Enter the directory for the folder the pictures are to be saved to. \")\n",
    "cam = input(\"Declare which camera to use, if uncertain start with 0 and increase by one until the \"\n",
    "            \"correct camera is used. Current webcam selected is \")\n",
    "f_name = input(\"Enter the folder name for the pictures to be saved in. The folder name is\")\n",
    "num_photos = input(\"How many photos do you want to take? Number of photos are \")\n",
    "\n",
    "smile(d,f_name,cam, num_photos)"
   ]
  },
  {
   "cell_type": "code",
   "execution_count": null,
   "id": "66dde436",
   "metadata": {},
   "outputs": [],
   "source": []
  },
  {
   "cell_type": "code",
   "execution_count": null,
   "id": "7978cedd",
   "metadata": {},
   "outputs": [],
   "source": []
  }
 ],
 "metadata": {
  "kernelspec": {
   "display_name": "Python 3 (ipykernel)",
   "language": "python",
   "name": "python3"
  },
  "language_info": {
   "codemirror_mode": {
    "name": "ipython",
    "version": 3
   },
   "file_extension": ".py",
   "mimetype": "text/x-python",
   "name": "python",
   "nbconvert_exporter": "python",
   "pygments_lexer": "ipython3",
   "version": "3.9.12"
  }
 },
 "nbformat": 4,
 "nbformat_minor": 5
}
